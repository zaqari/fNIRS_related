{
 "cells": [
  {
   "metadata": {},
   "cell_type": "markdown",
   "source": "# Taking .docx file and making them remotely useful",
   "id": "e59db2ab309aeb48"
  },
  {
   "metadata": {},
   "cell_type": "code",
   "source": [
    "import os\n",
    "import sys\n",
    "\n",
    "# path where the transcripts are stored \n",
    "#   (make this prior to running script and add all .docx formatted \n",
    "#    transcripts there.)\n",
    "TRANSCRIPTS_PATH = '../data/transcripts'\n",
    "\n",
    "# path where the corrected .csv formatted data will reside\n",
    "CORRECTED_TRANSCRIPTS_PATH = '../data/data'\n",
    "if not os.path.exists(CORRECTED_TRANSCRIPTS_PATH):\n",
    "    os.mkdir(CORRECTED_TRANSCRIPTS_PATH)\n",
    "\n",
    "files = [os.path.join(TRANSCRIPTS_PATH, p) for p in os.listdir(TRANSCRIPTS_PATH) if (not p.startswith('._'))]"
   ],
   "id": "246c25048ec65b56",
   "outputs": [],
   "execution_count": null
  },
  {
   "metadata": {},
   "cell_type": "markdown",
   "source": "",
   "id": "dc6b598fd7e5e354"
  },
  {
   "metadata": {},
   "cell_type": "code",
   "source": [
    "import re\n",
    "import numpy as np\n",
    "import pandas as pd\n",
    "from tqdm import tqdm"
   ],
   "id": "1d7123e0fe2e661b",
   "outputs": [],
   "execution_count": null
  },
  {
   "metadata": {},
   "cell_type": "code",
   "source": [
    "def corrected_text(text):\n",
    "    res = re.sub(r'\\(\\(.*?\\)\\)', ' ', str(text))\n",
    "    # res = re.sub(r'\\[.*?\\]', ' ', res)\n",
    "    res = re.sub(r'\\s+', ' ', res).replace('[', ' ').replace(']', ' ')\n",
    "    return re.sub(r'[^\\w\\s]', '', res)\n",
    "    \n",
    "def process_(doc):\n",
    "    lines = []\n",
    "    current_line = {\n",
    "        'speaker': None, \n",
    "        'timestamp': None, \n",
    "        'utterance': '', \n",
    "        'unedited': '', \n",
    "        'overlapping_utterance': False\n",
    "    }\n",
    "    for i in tqdm(doc.index):\n",
    "        if doc['Speaker'].loc[i] != current_line['speaker']:\n",
    "            lines += [current_line]\n",
    "            current_line = {\n",
    "                'speaker': doc['Speaker'].loc[i],\n",
    "                'timestamp': doc['Timestamp'].loc[i],\n",
    "                'utterance': corrected_text(doc['Statement'].loc[i]),\n",
    "                'unedited': doc['Statement'].loc[i],\n",
    "                'overlapping_utterance': bool(re.findall(r'\\[.*?\\]', doc['Statement'].loc[i]))\n",
    "            }\n",
    "        \n",
    "        else:\n",
    "            current_line['utterance'] += ' ' + corrected_text(doc['Statement'].loc[i])\n",
    "            current_line['unedited'] += ' ' + doc['Statement'].loc[i]\n",
    "            current_line['overlapping_utterance'] += bool(re.findall(r'\\[.*?\\]', doc['Statement'].loc[i]))\n",
    "    \n",
    "    return pd.DataFrame(lines[1:])\n",
    "\n",
    "def process(doc):\n",
    "    lines = []\n",
    "    for i in tqdm(doc.index):\n",
    "        lines += [{\n",
    "            'speaker': doc['Speaker'].loc[i],\n",
    "            'timestamp': doc['Timestamp'].loc[i],\n",
    "            'utterance': corrected_text(doc['Statement'].loc[i]),\n",
    "            'unedited': doc['Statement'].loc[i],\n",
    "            'overlapping_utterance': bool(re.findall(r'\\[.*?\\]', doc['Statement'].loc[i]))\n",
    "        }]\n",
    "        \n",
    "    return pd.DataFrame(lines[1:])"
   ],
   "id": "26d1f4597c2a5155",
   "outputs": [],
   "execution_count": null
  },
  {
   "metadata": {},
   "cell_type": "code",
   "source": [
    "import warnings; warnings.filterwarnings('ignore')\n",
    "\n",
    "for file_number,file in enumerate(files):\n",
    "    \n",
    "    print('{}: {}/{}'.format(file.split('/')[-1], file_number+1, len(files)))\n",
    "    \n",
    "    doc = pd.read_csv(file)\n",
    "    doc['Statement'] = doc['Statement'].astype(str)\n",
    "    df = process(doc)\n",
    "    df['file'] = file.split('/')[-1].replace('.csv', '').replace('transcript', '')\n",
    "    \n",
    "    df['next_speaker'] = None\n",
    "    df['next_utterance'] = None\n",
    "    df['next_unedited'] = None\n",
    "    df['next_overlapping_utterance'] = None\n",
    "    \n",
    "    df['next_speaker'].loc[df.index.values[:-1]] = df['speaker'].loc[df.index.values[1:]].to_list()\n",
    "    df['next_utterance'].loc[df.index.values[:-1]] = df['utterance'].loc[df.index.values[1:]].to_list()\n",
    "    df['next_unedited'].loc[df.index.values[:-1]] = df['unedited'].loc[df.index.values[1:]].to_list()\n",
    "    df['next_overlapping_utterance'].loc[df.index.values[:-1]] = df['overlapping_utterance'].loc[df.index.values[1:]].to_list()\n",
    "    \n",
    "    print(len(df))\n",
    "    print(df['speaker'].unique(), df['next_speaker'].unique())\n",
    "    print('=====][=====')\n",
    "    \n",
    "    df.to_csv(\n",
    "        os.path.join(\n",
    "            CORRECTED_TRANSCRIPTS_PATH,\n",
    "            file.split('/')[-1]\n",
    "        ),\n",
    "        index=False, \n",
    "        encoding='utf-8'\n",
    "    )\n",
    "    "
   ],
   "id": "26edd2502bbc7f7c",
   "outputs": [],
   "execution_count": null
  },
  {
   "metadata": {},
   "cell_type": "code",
   "source": "df.head(n=20)",
   "id": "d621863e9a7e27dc",
   "outputs": [],
   "execution_count": null
  },
  {
   "metadata": {},
   "cell_type": "code",
   "source": "df['timestamp'].isna().mean()",
   "id": "1c02bbb44b6cb873",
   "outputs": [],
   "execution_count": null
  },
  {
   "metadata": {},
   "cell_type": "code",
   "source": "",
   "id": "39879f7361c1ef2",
   "outputs": [],
   "execution_count": null
  }
 ],
 "metadata": {
  "kernelspec": {
   "display_name": "Python 3",
   "language": "python",
   "name": "python3"
  },
  "language_info": {
   "codemirror_mode": {
    "name": "ipython",
    "version": 2
   },
   "file_extension": ".py",
   "mimetype": "text/x-python",
   "name": "python",
   "nbconvert_exporter": "python",
   "pygments_lexer": "ipython2",
   "version": "2.7.6"
  }
 },
 "nbformat": 4,
 "nbformat_minor": 5
}
