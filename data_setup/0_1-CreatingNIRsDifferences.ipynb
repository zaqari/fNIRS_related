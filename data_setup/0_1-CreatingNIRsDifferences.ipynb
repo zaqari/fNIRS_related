{
 "cells": [
  {
   "metadata": {},
   "cell_type": "markdown",
   "source": "# Merging the NIRs data with text columns",
   "id": "fb74300f46e37b12"
  },
  {
   "metadata": {},
   "cell_type": "code",
   "source": [
    "import os\n",
    "import sys\n",
    "import numpy as np\n",
    "import pandas as pd\n",
    "from tqdm import tqdm\n",
    "\n",
    "# all data\n",
    "data_path = '../data'\n",
    "\n",
    "# nirs data\n",
    "nirs_data_sub1 = os.path.join(data_path, 'neuro/nirs_sub1.csv')\n",
    "nirs_data_sub2 = os.path.join(data_path, 'neuro/nirs_sub2.csv')\n",
    "\n",
    "# text data\n",
    "ceda_data_path = os.path.join(data_path, 'results/ceda-results.csv')\n",
    "########## may need to change . . . I need dyads->speakers data.\n",
    "meta_data_path = os.path.join(data_path, 'meta_data/CC_Post_105dyads.csv')"
   ],
   "id": "4a6d8c5b49990bf2",
   "outputs": [],
   "execution_count": null
  },
  {
   "metadata": {},
   "cell_type": "markdown",
   "source": "## Creating NIRs, Transcript Specific CSVs",
   "id": "28c61038f046d014"
  },
  {
   "metadata": {},
   "cell_type": "code",
   "source": [
    "id_col = 'Subject'\n",
    "for sdf in pd.read_csv(nirs_data_sub1, chunksize=1000):\n",
    "    \n",
    "    for dyad in sdf[id_col].unique():\n",
    "        f = os.path.join(data_path, 'unified_neuro', str(dyad)+'.csv')\n",
    "        \n",
    "        sub = sdf.loc[sdf[id_col].isin([dyad])].copy()\n",
    "        # sub = sub.rename(columns={col: 'x_'+col for col in sub.columns})\n",
    "        \n",
    "        if os.path.exists(f):\n",
    "            sub.to_csv(f, encoding='utf-8', mode='a', header=False, index=False)\n",
    "        else:\n",
    "            sub.to_csv(f, encoding='utf-8', index=False)"
   ],
   "id": "4d4df10e60318a1e",
   "outputs": [],
   "execution_count": null
  },
  {
   "metadata": {},
   "cell_type": "markdown",
   "source": "",
   "id": "6cc5011f337c8df9"
  },
  {
   "metadata": {},
   "cell_type": "code",
   "source": [
    "id_col = 'Subject'\n",
    "current_df = []\n",
    "for sdf in pd.read_csv(nirs_data_sub2, chunksize=1000):\n",
    "    \n",
    "    for dyad in sdf[id_col].unique():\n",
    "        f = os.path.join(data_path, 'unified_neuro', str(dyad)+'_2.csv')\n",
    "        \n",
    "        sub = sdf.loc[sdf[id_col].isin([dyad])].copy()\n",
    "        # sub = sub.rename(columns={col: 'x_'+col for col in sub.columns})\n",
    "        \n",
    "        if os.path.exists(f):\n",
    "            sub.to_csv(f, encoding='utf-8', mode='a', header=False, index=False)\n",
    "        else:\n",
    "            sub.to_csv(f, encoding='utf-8', index=False)"
   ],
   "id": "2e78b29305b3d8fc",
   "outputs": [],
   "execution_count": null
  },
  {
   "metadata": {},
   "cell_type": "markdown",
   "source": "Merging the data",
   "id": "a811c7a9e2f7d2c6"
  },
  {
   "metadata": {},
   "cell_type": "code",
   "source": [
    "unified_neuro_home = os.path.join(data_path,'unified_neuro')\n",
    "files = [f for f in os.listdir(unified_neuro_home) if (not f.endswith('_2.csv')) and (not f.startswith('._'))]\n",
    "\n",
    "for f in tqdm(files):\n",
    "    df = pd.read_csv(os.path.join(unified_neuro_home, f))\n",
    "    s2df = pd.read_csv(os.path.join(unified_neuro_home, f.replace('.csv', '_2.csv')))\n",
    "    channel_columns = [col for col in list(df) if 'ch_' in col]\n",
    "    df[channel_columns] = (df[channel_columns] - s2df[channel_columns]).abs()\n",
    "    \n",
    "    df.to_csv(os.path.join(unified_neuro_home, f), index=False, encoding='utf-8')\n",
    "    os.remove(os.path.join(unified_neuro_home, f.replace('.csv', '_2.csv')))"
   ],
   "id": "5772132300178028",
   "outputs": [],
   "execution_count": null
  },
  {
   "metadata": {},
   "cell_type": "markdown",
   "source": "",
   "id": "fdc59b3de8583543"
  }
 ],
 "metadata": {
  "kernelspec": {
   "display_name": "Python 3",
   "language": "python",
   "name": "python3"
  },
  "language_info": {
   "codemirror_mode": {
    "name": "ipython",
    "version": 2
   },
   "file_extension": ".py",
   "mimetype": "text/x-python",
   "name": "python",
   "nbconvert_exporter": "python",
   "pygments_lexer": "ipython2",
   "version": "2.7.6"
  }
 },
 "nbformat": 4,
 "nbformat_minor": 5
}
