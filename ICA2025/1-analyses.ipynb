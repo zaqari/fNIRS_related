{
 "cells": [
  {
   "cell_type": "markdown",
   "metadata": {
    "collapsed": true,
    "jupyter": {
     "outputs_hidden": true
    },
    "pycharm": {
     "name": "#%% md\n"
    }
   },
   "source": "# Analyzing linguistic adaptation in terms of entropy"
  },
  {
   "cell_type": "code",
   "metadata": {
    "collapsed": false,
    "jupyter": {
     "outputs_hidden": false
    },
    "ExecuteTime": {
     "end_time": "2025-01-31T22:15:37.791448Z",
     "start_time": "2025-01-31T22:15:37.785556Z"
    }
   },
   "source": [
    "import os\n",
    "import re\n",
    "\n",
    "DATA_PATH = '../data/results'\n",
    "DATA_FILE = 'ceda-results-with_fNIRs.csv'\n",
    "\n",
    "REPORTING_PATH = '../data/reports'\n",
    "REPORT_NAME = os.path.join(REPORTING_PATH, 'report-{}.csv')\n",
    "MODEL_PERFORMANCE_NAME = os.path.join(REPORTING_PATH, 'model-comparison.csv')\n",
    "\n",
    "lollipop_vis_name = 'lollipop.png'"
   ],
   "outputs": [],
   "execution_count": 1
  },
  {
   "cell_type": "markdown",
   "metadata": {
    "collapsed": false,
    "jupyter": {
     "outputs_hidden": false
    }
   },
   "source": [
    "## Main Analyses and Results"
   ]
  },
  {
   "cell_type": "code",
   "metadata": {
    "ExecuteTime": {
     "end_time": "2025-01-31T22:15:39.157882Z",
     "start_time": "2025-01-31T22:15:37.798029Z"
    }
   },
   "source": [
    "import pandas as pd\n",
    "import numpy as np\n",
    "from tqdm import tqdm\n",
    "import statsmodels.formula.api as smf\n",
    "from datetime import datetime as dt\n",
    "\n",
    "df = pd.read_csv(os.path.join(DATA_PATH, DATA_FILE))\n",
    "# df = df.loc[\n",
    "#     (df['nx'] >= 5)\n",
    "#     & (df['ny'] >= 5)\n",
    "#     # & (df['comment_delta_abs'] <= 20)\n",
    "# ] # limit by comment size\n",
    "df.shape"
   ],
   "outputs": [
    {
     "data": {
      "text/plain": [
       "(12369, 68)"
      ]
     },
     "execution_count": 2,
     "metadata": {},
     "output_type": "execute_result"
    }
   ],
   "execution_count": 2
  },
  {
   "metadata": {
    "ExecuteTime": {
     "end_time": "2025-01-30T06:21:44.383364Z",
     "start_time": "2025-01-30T06:21:44.380496Z"
    }
   },
   "cell_type": "code",
   "source": "df['mixed_gender'] = ~df['GenderDemoComp'].isin(['Male-Male', 'Female-Female'])",
   "outputs": [],
   "execution_count": 3
  },
  {
   "metadata": {
    "ExecuteTime": {
     "end_time": "2025-01-30T06:21:47.814565Z",
     "start_time": "2025-01-30T06:21:47.801241Z"
    }
   },
   "cell_type": "code",
   "source": "df.head()",
   "outputs": [
    {
     "data": {
      "text/plain": [
       "  speaker timestamp                                          utterance  \\\n",
       "0   R (F)      0:02                   Okay umm Do you want to start or   \n",
       "1   L (F)      0:04                             Uhh you can you can go   \n",
       "2   R (F)      0:05  Ok I feel like a perfect day for me would be s...   \n",
       "3   L (F)      0:58                      Yeah yours sounds really nice   \n",
       "4   R (F)      1:00                                                Yea   \n",
       "\n",
       "                                            unedited overlapping_utterance  \\\n",
       "0               Okay, umm… Do you want to start, or?                 False   \n",
       "1                           Uhh you can- you can go.                 False   \n",
       "2  Ok. I feel like a perfect day for me would be…...                 False   \n",
       "3       Yeah yours sounds… ((laughing)) really nice!                 False   \n",
       "4                                   ((laughing)) Yea                 False   \n",
       "\n",
       "   file next_speaker                                     next_utterance  \\\n",
       "0  4040        L (F)                             Uhh you can you can go   \n",
       "1  4040        R (F)  Ok I feel like a perfect day for me would be s...   \n",
       "2  4040        L (F)                      Yeah yours sounds really nice   \n",
       "3  4040        R (F)                                                Yea   \n",
       "4  4040        L (F)  Ummm I would also sleep in I dont really past ...   \n",
       "\n",
       "                                       next_unedited  \\\n",
       "0                           Uhh you can- you can go.   \n",
       "1  Ok. I feel like a perfect day for me would be…...   \n",
       "2       Yeah yours sounds… ((laughing)) really nice!   \n",
       "3                                   ((laughing)) Yea   \n",
       "4  Ummm I would also sleep in… I don't really- pa...   \n",
       "\n",
       "  next_overlapping_utterance  ...     R_SPL     R_TPJ  next_L_lPFC  next_mPFC  \\\n",
       "0                      False  ...  6.114621  5.460205     7.693702  15.168717   \n",
       "1                      False  ...  5.894488  6.816861     4.703152   7.161448   \n",
       "2                      False  ...  2.567251  5.133704     4.714618   7.023219   \n",
       "3                      False  ...  1.708186  2.725299     7.261149   9.810425   \n",
       "4                      False  ...  2.446101  4.443919     5.621054   8.876137   \n",
       "\n",
       "   next_R_lPFC  next_L_SPL  next_L_TPJ  next_R_SPL next_R_TPJ  mixed_gender  \n",
       "0    15.936040    8.353804    0.961866    6.035210   5.940956         False  \n",
       "1     6.642062    3.024416    2.671346    2.628057   5.163731         False  \n",
       "2     6.446579    3.017216    2.747721    2.534276   5.056303         False  \n",
       "3     9.824648    4.639324    4.824461    2.274620   3.931660         False  \n",
       "4     8.997023    2.609468    3.074916    1.810273   4.748684         False  \n",
       "\n",
       "[5 rows x 69 columns]"
      ],
      "text/html": [
       "<div>\n",
       "<style scoped>\n",
       "    .dataframe tbody tr th:only-of-type {\n",
       "        vertical-align: middle;\n",
       "    }\n",
       "\n",
       "    .dataframe tbody tr th {\n",
       "        vertical-align: top;\n",
       "    }\n",
       "\n",
       "    .dataframe thead th {\n",
       "        text-align: right;\n",
       "    }\n",
       "</style>\n",
       "<table border=\"1\" class=\"dataframe\">\n",
       "  <thead>\n",
       "    <tr style=\"text-align: right;\">\n",
       "      <th></th>\n",
       "      <th>speaker</th>\n",
       "      <th>timestamp</th>\n",
       "      <th>utterance</th>\n",
       "      <th>unedited</th>\n",
       "      <th>overlapping_utterance</th>\n",
       "      <th>file</th>\n",
       "      <th>next_speaker</th>\n",
       "      <th>next_utterance</th>\n",
       "      <th>next_unedited</th>\n",
       "      <th>next_overlapping_utterance</th>\n",
       "      <th>...</th>\n",
       "      <th>R_SPL</th>\n",
       "      <th>R_TPJ</th>\n",
       "      <th>next_L_lPFC</th>\n",
       "      <th>next_mPFC</th>\n",
       "      <th>next_R_lPFC</th>\n",
       "      <th>next_L_SPL</th>\n",
       "      <th>next_L_TPJ</th>\n",
       "      <th>next_R_SPL</th>\n",
       "      <th>next_R_TPJ</th>\n",
       "      <th>mixed_gender</th>\n",
       "    </tr>\n",
       "  </thead>\n",
       "  <tbody>\n",
       "    <tr>\n",
       "      <th>0</th>\n",
       "      <td>R (F)</td>\n",
       "      <td>0:02</td>\n",
       "      <td>Okay umm Do you want to start or</td>\n",
       "      <td>Okay, umm… Do you want to start, or?</td>\n",
       "      <td>False</td>\n",
       "      <td>4040</td>\n",
       "      <td>L (F)</td>\n",
       "      <td>Uhh you can you can go</td>\n",
       "      <td>Uhh you can- you can go.</td>\n",
       "      <td>False</td>\n",
       "      <td>...</td>\n",
       "      <td>6.114621</td>\n",
       "      <td>5.460205</td>\n",
       "      <td>7.693702</td>\n",
       "      <td>15.168717</td>\n",
       "      <td>15.936040</td>\n",
       "      <td>8.353804</td>\n",
       "      <td>0.961866</td>\n",
       "      <td>6.035210</td>\n",
       "      <td>5.940956</td>\n",
       "      <td>False</td>\n",
       "    </tr>\n",
       "    <tr>\n",
       "      <th>1</th>\n",
       "      <td>L (F)</td>\n",
       "      <td>0:04</td>\n",
       "      <td>Uhh you can you can go</td>\n",
       "      <td>Uhh you can- you can go.</td>\n",
       "      <td>False</td>\n",
       "      <td>4040</td>\n",
       "      <td>R (F)</td>\n",
       "      <td>Ok I feel like a perfect day for me would be s...</td>\n",
       "      <td>Ok. I feel like a perfect day for me would be…...</td>\n",
       "      <td>False</td>\n",
       "      <td>...</td>\n",
       "      <td>5.894488</td>\n",
       "      <td>6.816861</td>\n",
       "      <td>4.703152</td>\n",
       "      <td>7.161448</td>\n",
       "      <td>6.642062</td>\n",
       "      <td>3.024416</td>\n",
       "      <td>2.671346</td>\n",
       "      <td>2.628057</td>\n",
       "      <td>5.163731</td>\n",
       "      <td>False</td>\n",
       "    </tr>\n",
       "    <tr>\n",
       "      <th>2</th>\n",
       "      <td>R (F)</td>\n",
       "      <td>0:05</td>\n",
       "      <td>Ok I feel like a perfect day for me would be s...</td>\n",
       "      <td>Ok. I feel like a perfect day for me would be…...</td>\n",
       "      <td>False</td>\n",
       "      <td>4040</td>\n",
       "      <td>L (F)</td>\n",
       "      <td>Yeah yours sounds really nice</td>\n",
       "      <td>Yeah yours sounds… ((laughing)) really nice!</td>\n",
       "      <td>False</td>\n",
       "      <td>...</td>\n",
       "      <td>2.567251</td>\n",
       "      <td>5.133704</td>\n",
       "      <td>4.714618</td>\n",
       "      <td>7.023219</td>\n",
       "      <td>6.446579</td>\n",
       "      <td>3.017216</td>\n",
       "      <td>2.747721</td>\n",
       "      <td>2.534276</td>\n",
       "      <td>5.056303</td>\n",
       "      <td>False</td>\n",
       "    </tr>\n",
       "    <tr>\n",
       "      <th>3</th>\n",
       "      <td>L (F)</td>\n",
       "      <td>0:58</td>\n",
       "      <td>Yeah yours sounds really nice</td>\n",
       "      <td>Yeah yours sounds… ((laughing)) really nice!</td>\n",
       "      <td>False</td>\n",
       "      <td>4040</td>\n",
       "      <td>R (F)</td>\n",
       "      <td>Yea</td>\n",
       "      <td>((laughing)) Yea</td>\n",
       "      <td>False</td>\n",
       "      <td>...</td>\n",
       "      <td>1.708186</td>\n",
       "      <td>2.725299</td>\n",
       "      <td>7.261149</td>\n",
       "      <td>9.810425</td>\n",
       "      <td>9.824648</td>\n",
       "      <td>4.639324</td>\n",
       "      <td>4.824461</td>\n",
       "      <td>2.274620</td>\n",
       "      <td>3.931660</td>\n",
       "      <td>False</td>\n",
       "    </tr>\n",
       "    <tr>\n",
       "      <th>4</th>\n",
       "      <td>R (F)</td>\n",
       "      <td>1:00</td>\n",
       "      <td>Yea</td>\n",
       "      <td>((laughing)) Yea</td>\n",
       "      <td>False</td>\n",
       "      <td>4040</td>\n",
       "      <td>L (F)</td>\n",
       "      <td>Ummm I would also sleep in I dont really past ...</td>\n",
       "      <td>Ummm I would also sleep in… I don't really- pa...</td>\n",
       "      <td>False</td>\n",
       "      <td>...</td>\n",
       "      <td>2.446101</td>\n",
       "      <td>4.443919</td>\n",
       "      <td>5.621054</td>\n",
       "      <td>8.876137</td>\n",
       "      <td>8.997023</td>\n",
       "      <td>2.609468</td>\n",
       "      <td>3.074916</td>\n",
       "      <td>1.810273</td>\n",
       "      <td>4.748684</td>\n",
       "      <td>False</td>\n",
       "    </tr>\n",
       "  </tbody>\n",
       "</table>\n",
       "<p>5 rows × 69 columns</p>\n",
       "</div>"
      ]
     },
     "execution_count": 4,
     "metadata": {},
     "output_type": "execute_result"
    }
   ],
   "execution_count": 4
  },
  {
   "cell_type": "markdown",
   "metadata": {
    "collapsed": false,
    "jupyter": {
     "outputs_hidden": false
    }
   },
   "source": "### Model 1: Linguistic Adaptation as Linear Change Over Time"
  },
  {
   "cell_type": "code",
   "metadata": {
    "collapsed": false,
    "jupyter": {
     "outputs_hidden": false
    },
    "ExecuteTime": {
     "end_time": "2024-10-29T21:10:55.728764Z",
     "start_time": "2024-10-29T21:10:54.809193Z"
    }
   },
   "source": [
    "##########################################\n",
    "## Main model\n",
    "##########################################\n",
    "# model = \"Hxy ~ nx + ny + time_delta + x_comment_ups + y_comment_ups +  cc_is_parent + cc_is_sibling + cc_is_child + (1|x_user) + (1|y_user) + (1|y_submission_id)\"\n",
    "model = \"Hxy ~ nx + ny + mixed_gender + transition + (1|speaker) + (1|speaker2) + (2|dyad)\"\n",
    "\n",
    "##########################################\n",
    "\n",
    "start = dt.now()\n",
    "md = smf.mixedlm(model, data=df, groups=df.index)\n",
    "mdf = md.fit()\n",
    "print('completed in:', dt.now()-start)"
   ],
   "outputs": [
    {
     "name": "stdout",
     "output_type": "stream",
     "text": [
      "completed in: 0:00:00.913868\n"
     ]
    },
    {
     "name": "stderr",
     "output_type": "stream",
     "text": [
      "/Library/Frameworks/Python.framework/Versions/3.10/lib/python3.10/site-packages/statsmodels/regression/mixed_linear_model.py:2261: ConvergenceWarning: The Hessian matrix at the estimated parameter values is not positive definite.\n",
      "  warnings.warn(msg, ConvergenceWarning)\n"
     ]
    }
   ],
   "execution_count": 5
  },
  {
   "cell_type": "markdown",
   "metadata": {
    "collapsed": false,
    "jupyter": {
     "outputs_hidden": false
    }
   },
   "source": [
    "Reporting on the model outputs in a dataframe"
   ]
  },
  {
   "cell_type": "code",
   "metadata": {
    "collapsed": false,
    "jupyter": {
     "outputs_hidden": false
    },
    "ExecuteTime": {
     "end_time": "2024-10-29T21:10:59.810793Z",
     "start_time": "2024-10-29T21:10:59.793045Z"
    }
   },
   "source": [
    "reporting = pd.DataFrame()\n",
    "reporting['coefs'] = mdf.params\n",
    "reporting['stat'] = mdf.tvalues\n",
    "reporting['p'] = mdf.pvalues\n",
    "reporting['CI[.025, .975]'] = ['[{}]'.format(', '.join([np.format_float_scientific(x, precision=2) for x in ci.tolist()])) for ci in mdf.conf_int().values]\n",
    "\n",
    "reporting['coefs'] = reporting['coefs'].apply(lambda x: np.format_float_scientific(x, precision=2))\n",
    "reporting['stat'] = reporting['stat'].apply(lambda x: np.format_float_scientific(x, precision=2))\n",
    "reporting['p'] = reporting['p'].apply(lambda x: np.format_float_scientific(x, precision=2))\n",
    "\n",
    "reporting.head(100)"
   ],
   "outputs": [
    {
     "data": {
      "text/plain": [
       "                          coefs       stat          p          CI[.025, .975]\n",
       "Intercept             -5.69e-02  -1.93e+00   5.42e-02   [-1.15e-01, 1.03e-03]\n",
       "mixed_gender[T.True]  -3.29e-02  -2.11e+00   3.49e-02  [-6.34e-02, -2.34e-03]\n",
       "nx                     9.86e-02   2.95e+02     0.e+00     [9.8e-02, 9.93e-02]\n",
       "ny                     -7.7e-03  -2.24e+01  9.88e-111  [-8.37e-03, -7.02e-03]\n",
       "transition             4.76e-05    9.6e-01   3.37e-01   [-4.96e-05, 1.45e-04]\n",
       "1 | speaker           -9.47e-04  -2.24e+00   2.52e-02  [-1.78e-03, -1.18e-04]\n",
       "1 | speaker2          -1.57e-03  -3.72e+00   2.01e-04  [-2.40e-03, -7.44e-04]\n",
       "2 | dyad                -9.e-04  -9.27e-01   3.54e-01   [-2.80e-03, 1.00e-03]\n",
       "Group Var                1.e+00        nan        nan              [nan, nan]"
      ],
      "text/html": [
       "<div>\n",
       "<style scoped>\n",
       "    .dataframe tbody tr th:only-of-type {\n",
       "        vertical-align: middle;\n",
       "    }\n",
       "\n",
       "    .dataframe tbody tr th {\n",
       "        vertical-align: top;\n",
       "    }\n",
       "\n",
       "    .dataframe thead th {\n",
       "        text-align: right;\n",
       "    }\n",
       "</style>\n",
       "<table border=\"1\" class=\"dataframe\">\n",
       "  <thead>\n",
       "    <tr style=\"text-align: right;\">\n",
       "      <th></th>\n",
       "      <th>coefs</th>\n",
       "      <th>stat</th>\n",
       "      <th>p</th>\n",
       "      <th>CI[.025, .975]</th>\n",
       "    </tr>\n",
       "  </thead>\n",
       "  <tbody>\n",
       "    <tr>\n",
       "      <th>Intercept</th>\n",
       "      <td>-5.69e-02</td>\n",
       "      <td>-1.93e+00</td>\n",
       "      <td>5.42e-02</td>\n",
       "      <td>[-1.15e-01, 1.03e-03]</td>\n",
       "    </tr>\n",
       "    <tr>\n",
       "      <th>mixed_gender[T.True]</th>\n",
       "      <td>-3.29e-02</td>\n",
       "      <td>-2.11e+00</td>\n",
       "      <td>3.49e-02</td>\n",
       "      <td>[-6.34e-02, -2.34e-03]</td>\n",
       "    </tr>\n",
       "    <tr>\n",
       "      <th>nx</th>\n",
       "      <td>9.86e-02</td>\n",
       "      <td>2.95e+02</td>\n",
       "      <td>0.e+00</td>\n",
       "      <td>[9.8e-02, 9.93e-02]</td>\n",
       "    </tr>\n",
       "    <tr>\n",
       "      <th>ny</th>\n",
       "      <td>-7.7e-03</td>\n",
       "      <td>-2.24e+01</td>\n",
       "      <td>9.88e-111</td>\n",
       "      <td>[-8.37e-03, -7.02e-03]</td>\n",
       "    </tr>\n",
       "    <tr>\n",
       "      <th>transition</th>\n",
       "      <td>4.76e-05</td>\n",
       "      <td>9.6e-01</td>\n",
       "      <td>3.37e-01</td>\n",
       "      <td>[-4.96e-05, 1.45e-04]</td>\n",
       "    </tr>\n",
       "    <tr>\n",
       "      <th>1 | speaker</th>\n",
       "      <td>-9.47e-04</td>\n",
       "      <td>-2.24e+00</td>\n",
       "      <td>2.52e-02</td>\n",
       "      <td>[-1.78e-03, -1.18e-04]</td>\n",
       "    </tr>\n",
       "    <tr>\n",
       "      <th>1 | speaker2</th>\n",
       "      <td>-1.57e-03</td>\n",
       "      <td>-3.72e+00</td>\n",
       "      <td>2.01e-04</td>\n",
       "      <td>[-2.40e-03, -7.44e-04]</td>\n",
       "    </tr>\n",
       "    <tr>\n",
       "      <th>2 | dyad</th>\n",
       "      <td>-9.e-04</td>\n",
       "      <td>-9.27e-01</td>\n",
       "      <td>3.54e-01</td>\n",
       "      <td>[-2.80e-03, 1.00e-03]</td>\n",
       "    </tr>\n",
       "    <tr>\n",
       "      <th>Group Var</th>\n",
       "      <td>1.e+00</td>\n",
       "      <td>nan</td>\n",
       "      <td>nan</td>\n",
       "      <td>[nan, nan]</td>\n",
       "    </tr>\n",
       "  </tbody>\n",
       "</table>\n",
       "</div>"
      ]
     },
     "execution_count": 6,
     "metadata": {},
     "output_type": "execute_result"
    }
   ],
   "execution_count": 6
  },
  {
   "cell_type": "code",
   "metadata": {
    "collapsed": false,
    "jupyter": {
     "outputs_hidden": false
    },
    "ExecuteTime": {
     "end_time": "2024-10-29T21:14:01.691655Z",
     "start_time": "2024-10-29T21:13:50.269490Z"
    }
   },
   "source": [
    "model_version = 'final'\n",
    "REPORT_NAME_ = REPORT_NAME.format(model_version)\n",
    "\n",
    "reporting.to_csv(REPORT_NAME_, encoding='utf-8')\n",
    "\n",
    "reporting['Var'] = reporting.index.values\n",
    "with open(REPORT_NAME_.replace('.csv', '.txt'), 'w') as f:\n",
    "    txt =  reporting[['Var', 'coefs', 'stat', 'p']].loc[:reporting.index[-2]].to_latex(index=False).replace('\\\\toprule', '\\\\hline').replace('\\\\midrule', '\\\\hline\\\\hline').replace('\\\\bottomrule', '\\\\hline')\n",
    "    f.write(txt)\n",
    "    f.close()"
   ],
   "outputs": [
    {
     "name": "stderr",
     "output_type": "stream",
     "text": [
      "Matplotlib is building the font cache; this may take a moment.\n"
     ]
    }
   ],
   "execution_count": 8
  },
  {
   "metadata": {},
   "cell_type": "markdown",
   "source": "saving model performance metrics"
  },
  {
   "metadata": {
    "ExecuteTime": {
     "end_time": "2024-10-29T21:16:10.026292Z",
     "start_time": "2024-10-29T21:16:09.995821Z"
    }
   },
   "cell_type": "code",
   "source": [
    "# individual differences vs. mixed-gender effects\n",
    "test_matrix = np.zeros(shape=(len(mdf.params)))\n",
    "sel = np.array([\n",
    "    ('mixed_gender' in k)\n",
    "    for k in mdf.params.keys()\n",
    "])\n",
    "test_matrix[sel] = 2\n",
    "\n",
    "sel = np.array([\n",
    "    ('speaker' in k)\n",
    "    for k in mdf.params.keys()\n",
    "])\n",
    "test_matrix[sel] = -1\n",
    "\n",
    "mdf.f_test(test_matrix)"
   ],
   "outputs": [
    {
     "data": {
      "text/plain": [
       "<class 'statsmodels.stats.contrast.ContrastResults'>\n",
       "<F test: F=4.148344393231542, p=0.041712176195110195, df_denom=7.12e+03, df_num=1>"
      ]
     },
     "execution_count": 9,
     "metadata": {},
     "output_type": "execute_result"
    }
   ],
   "execution_count": 9
  },
  {
   "cell_type": "code",
   "metadata": {},
   "source": [],
   "outputs": [],
   "execution_count": null
  }
 ],
 "metadata": {
  "kernelspec": {
   "display_name": "Python 3 (ipykernel)",
   "language": "python",
   "name": "python3"
  },
  "language_info": {
   "codemirror_mode": {
    "name": "ipython",
    "version": 3
   },
   "file_extension": ".py",
   "mimetype": "text/x-python",
   "name": "python",
   "nbconvert_exporter": "python",
   "pygments_lexer": "ipython3",
   "version": "3.9.0"
  }
 },
 "nbformat": 4,
 "nbformat_minor": 4
}
